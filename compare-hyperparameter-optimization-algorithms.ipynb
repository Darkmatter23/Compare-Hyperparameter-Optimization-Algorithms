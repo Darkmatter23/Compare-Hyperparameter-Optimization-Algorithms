{
 "cells": [
  {
   "cell_type": "code",
   "execution_count": 1,
   "id": "adverse-capture",
   "metadata": {
    "execution": {
     "iopub.execute_input": "2021-07-12T11:51:06.213594Z",
     "iopub.status.busy": "2021-07-12T11:51:06.212923Z",
     "iopub.status.idle": "2021-07-12T11:51:13.049516Z",
     "shell.execute_reply": "2021-07-12T11:51:13.048784Z",
     "shell.execute_reply.started": "2021-07-12T11:43:42.836611Z"
    },
    "papermill": {
     "duration": 6.86034,
     "end_time": "2021-07-12T11:51:13.049688",
     "exception": false,
     "start_time": "2021-07-12T11:51:06.189348",
     "status": "completed"
    },
    "tags": []
   },
   "outputs": [],
   "source": [
    "import numpy as np\n",
    "import pandas as pd\n",
    "import seaborn as sns\n",
    "import matplotlib.pyplot as plt\n",
    "\n",
    "from pandas_profiling import ProfileReport\n",
    "from sklearn.tree import DecisionTreeClassifier\n",
    "from sklearn.neighbors import KNeighborsClassifier\n",
    "from sklearn.metrics import accuracy_score, confusion_matrix, classification_report\n",
    "from sklearn.ensemble import RandomForestClassifier\n",
    "from sklearn.model_selection import train_test_split\n",
    "from sklearn.preprocessing import StandardScaler, MinMaxScaler\n",
    "from sklearn.svm import SVC\n",
    "\n",
    "import keras\n",
    "from keras.models import Sequential\n",
    "from keras.layers import Dense, Flatten\n",
    "\n",
    "\n",
    "import warnings\n",
    "warnings.filterwarnings(\"ignore\")\n",
    "plt.style.use('ggplot')"
   ]
  },
  {
   "cell_type": "markdown",
   "id": "amino-copying",
   "metadata": {
    "papermill": {
     "duration": 0.010367,
     "end_time": "2021-07-12T11:51:13.071059",
     "exception": false,
     "start_time": "2021-07-12T11:51:13.060692",
     "status": "completed"
    },
    "tags": []
   },
   "source": [
    "# Data Preprocessing"
   ]
  },
  {
   "cell_type": "code",
   "execution_count": 2,
   "id": "stuffed-accordance",
   "metadata": {
    "execution": {
     "iopub.execute_input": "2021-07-12T11:51:13.098504Z",
     "iopub.status.busy": "2021-07-12T11:51:13.097851Z",
     "iopub.status.idle": "2021-07-12T11:51:13.160050Z",
     "shell.execute_reply": "2021-07-12T11:51:13.159578Z",
     "shell.execute_reply.started": "2021-07-12T11:43:45.358597Z"
    },
    "papermill": {
     "duration": 0.078117,
     "end_time": "2021-07-12T11:51:13.160181",
     "exception": false,
     "start_time": "2021-07-12T11:51:13.082064",
     "status": "completed"
    },
    "tags": []
   },
   "outputs": [
    {
     "data": {
      "text/html": [
       "<div>\n",
       "<style scoped>\n",
       "    .dataframe tbody tr th:only-of-type {\n",
       "        vertical-align: middle;\n",
       "    }\n",
       "\n",
       "    .dataframe tbody tr th {\n",
       "        vertical-align: top;\n",
       "    }\n",
       "\n",
       "    .dataframe thead th {\n",
       "        text-align: right;\n",
       "    }\n",
       "</style>\n",
       "<table border=\"1\" class=\"dataframe\">\n",
       "  <thead>\n",
       "    <tr style=\"text-align: right;\">\n",
       "      <th></th>\n",
       "      <th>age</th>\n",
       "      <th>sex</th>\n",
       "      <th>trestbps</th>\n",
       "      <th>chol</th>\n",
       "      <th>fbs</th>\n",
       "      <th>restecg</th>\n",
       "      <th>thalach</th>\n",
       "      <th>exang</th>\n",
       "      <th>oldpeak</th>\n",
       "      <th>ca</th>\n",
       "      <th>target</th>\n",
       "      <th>cp_1</th>\n",
       "      <th>cp_2</th>\n",
       "      <th>cp_3</th>\n",
       "      <th>slope_1</th>\n",
       "      <th>slope_2</th>\n",
       "      <th>thal_1</th>\n",
       "      <th>thal_2</th>\n",
       "      <th>thal_3</th>\n",
       "    </tr>\n",
       "    <tr>\n",
       "      <th>id</th>\n",
       "      <th></th>\n",
       "      <th></th>\n",
       "      <th></th>\n",
       "      <th></th>\n",
       "      <th></th>\n",
       "      <th></th>\n",
       "      <th></th>\n",
       "      <th></th>\n",
       "      <th></th>\n",
       "      <th></th>\n",
       "      <th></th>\n",
       "      <th></th>\n",
       "      <th></th>\n",
       "      <th></th>\n",
       "      <th></th>\n",
       "      <th></th>\n",
       "      <th></th>\n",
       "      <th></th>\n",
       "      <th></th>\n",
       "    </tr>\n",
       "  </thead>\n",
       "  <tbody>\n",
       "    <tr>\n",
       "      <th>216</th>\n",
       "      <td>62</td>\n",
       "      <td>0</td>\n",
       "      <td>130</td>\n",
       "      <td>263</td>\n",
       "      <td>0</td>\n",
       "      <td>1</td>\n",
       "      <td>97</td>\n",
       "      <td>0</td>\n",
       "      <td>1.2</td>\n",
       "      <td>1</td>\n",
       "      <td>0</td>\n",
       "      <td>0</td>\n",
       "      <td>1</td>\n",
       "      <td>0</td>\n",
       "      <td>1</td>\n",
       "      <td>0</td>\n",
       "      <td>0</td>\n",
       "      <td>0</td>\n",
       "      <td>1</td>\n",
       "    </tr>\n",
       "    <tr>\n",
       "      <th>86</th>\n",
       "      <td>68</td>\n",
       "      <td>1</td>\n",
       "      <td>118</td>\n",
       "      <td>277</td>\n",
       "      <td>0</td>\n",
       "      <td>1</td>\n",
       "      <td>151</td>\n",
       "      <td>0</td>\n",
       "      <td>1.0</td>\n",
       "      <td>1</td>\n",
       "      <td>1</td>\n",
       "      <td>0</td>\n",
       "      <td>1</td>\n",
       "      <td>0</td>\n",
       "      <td>0</td>\n",
       "      <td>1</td>\n",
       "      <td>0</td>\n",
       "      <td>0</td>\n",
       "      <td>1</td>\n",
       "    </tr>\n",
       "    <tr>\n",
       "      <th>302</th>\n",
       "      <td>57</td>\n",
       "      <td>0</td>\n",
       "      <td>130</td>\n",
       "      <td>236</td>\n",
       "      <td>0</td>\n",
       "      <td>0</td>\n",
       "      <td>174</td>\n",
       "      <td>0</td>\n",
       "      <td>0.0</td>\n",
       "      <td>1</td>\n",
       "      <td>0</td>\n",
       "      <td>1</td>\n",
       "      <td>0</td>\n",
       "      <td>0</td>\n",
       "      <td>1</td>\n",
       "      <td>0</td>\n",
       "      <td>0</td>\n",
       "      <td>1</td>\n",
       "      <td>0</td>\n",
       "    </tr>\n",
       "    <tr>\n",
       "      <th>201</th>\n",
       "      <td>60</td>\n",
       "      <td>1</td>\n",
       "      <td>125</td>\n",
       "      <td>258</td>\n",
       "      <td>0</td>\n",
       "      <td>0</td>\n",
       "      <td>141</td>\n",
       "      <td>1</td>\n",
       "      <td>2.8</td>\n",
       "      <td>1</td>\n",
       "      <td>0</td>\n",
       "      <td>0</td>\n",
       "      <td>0</td>\n",
       "      <td>0</td>\n",
       "      <td>1</td>\n",
       "      <td>0</td>\n",
       "      <td>0</td>\n",
       "      <td>0</td>\n",
       "      <td>1</td>\n",
       "    </tr>\n",
       "    <tr>\n",
       "      <th>30</th>\n",
       "      <td>41</td>\n",
       "      <td>0</td>\n",
       "      <td>105</td>\n",
       "      <td>198</td>\n",
       "      <td>0</td>\n",
       "      <td>1</td>\n",
       "      <td>168</td>\n",
       "      <td>0</td>\n",
       "      <td>0.0</td>\n",
       "      <td>1</td>\n",
       "      <td>1</td>\n",
       "      <td>1</td>\n",
       "      <td>0</td>\n",
       "      <td>0</td>\n",
       "      <td>0</td>\n",
       "      <td>1</td>\n",
       "      <td>0</td>\n",
       "      <td>1</td>\n",
       "      <td>0</td>\n",
       "    </tr>\n",
       "    <tr>\n",
       "      <th>49</th>\n",
       "      <td>53</td>\n",
       "      <td>0</td>\n",
       "      <td>138</td>\n",
       "      <td>234</td>\n",
       "      <td>0</td>\n",
       "      <td>0</td>\n",
       "      <td>160</td>\n",
       "      <td>0</td>\n",
       "      <td>0.0</td>\n",
       "      <td>0</td>\n",
       "      <td>1</td>\n",
       "      <td>0</td>\n",
       "      <td>0</td>\n",
       "      <td>0</td>\n",
       "      <td>0</td>\n",
       "      <td>1</td>\n",
       "      <td>0</td>\n",
       "      <td>1</td>\n",
       "      <td>0</td>\n",
       "    </tr>\n",
       "    <tr>\n",
       "      <th>138</th>\n",
       "      <td>57</td>\n",
       "      <td>1</td>\n",
       "      <td>110</td>\n",
       "      <td>201</td>\n",
       "      <td>0</td>\n",
       "      <td>1</td>\n",
       "      <td>126</td>\n",
       "      <td>1</td>\n",
       "      <td>1.5</td>\n",
       "      <td>0</td>\n",
       "      <td>1</td>\n",
       "      <td>0</td>\n",
       "      <td>0</td>\n",
       "      <td>0</td>\n",
       "      <td>1</td>\n",
       "      <td>0</td>\n",
       "      <td>1</td>\n",
       "      <td>0</td>\n",
       "      <td>0</td>\n",
       "    </tr>\n",
       "    <tr>\n",
       "      <th>48</th>\n",
       "      <td>53</td>\n",
       "      <td>0</td>\n",
       "      <td>128</td>\n",
       "      <td>216</td>\n",
       "      <td>0</td>\n",
       "      <td>0</td>\n",
       "      <td>115</td>\n",
       "      <td>0</td>\n",
       "      <td>0.0</td>\n",
       "      <td>0</td>\n",
       "      <td>1</td>\n",
       "      <td>0</td>\n",
       "      <td>1</td>\n",
       "      <td>0</td>\n",
       "      <td>0</td>\n",
       "      <td>1</td>\n",
       "      <td>0</td>\n",
       "      <td>0</td>\n",
       "      <td>0</td>\n",
       "    </tr>\n",
       "    <tr>\n",
       "      <th>117</th>\n",
       "      <td>56</td>\n",
       "      <td>1</td>\n",
       "      <td>120</td>\n",
       "      <td>193</td>\n",
       "      <td>0</td>\n",
       "      <td>0</td>\n",
       "      <td>162</td>\n",
       "      <td>0</td>\n",
       "      <td>1.9</td>\n",
       "      <td>0</td>\n",
       "      <td>1</td>\n",
       "      <td>0</td>\n",
       "      <td>0</td>\n",
       "      <td>1</td>\n",
       "      <td>1</td>\n",
       "      <td>0</td>\n",
       "      <td>0</td>\n",
       "      <td>0</td>\n",
       "      <td>1</td>\n",
       "    </tr>\n",
       "    <tr>\n",
       "      <th>156</th>\n",
       "      <td>47</td>\n",
       "      <td>1</td>\n",
       "      <td>130</td>\n",
       "      <td>253</td>\n",
       "      <td>0</td>\n",
       "      <td>1</td>\n",
       "      <td>179</td>\n",
       "      <td>0</td>\n",
       "      <td>0.0</td>\n",
       "      <td>0</td>\n",
       "      <td>1</td>\n",
       "      <td>0</td>\n",
       "      <td>1</td>\n",
       "      <td>0</td>\n",
       "      <td>0</td>\n",
       "      <td>1</td>\n",
       "      <td>0</td>\n",
       "      <td>1</td>\n",
       "      <td>0</td>\n",
       "    </tr>\n",
       "  </tbody>\n",
       "</table>\n",
       "</div>"
      ],
      "text/plain": [
       "     age  sex  trestbps  chol  fbs  restecg  thalach  exang  oldpeak  ca  \\\n",
       "id                                                                         \n",
       "216   62    0       130   263    0        1       97      0      1.2   1   \n",
       "86    68    1       118   277    0        1      151      0      1.0   1   \n",
       "302   57    0       130   236    0        0      174      0      0.0   1   \n",
       "201   60    1       125   258    0        0      141      1      2.8   1   \n",
       "30    41    0       105   198    0        1      168      0      0.0   1   \n",
       "49    53    0       138   234    0        0      160      0      0.0   0   \n",
       "138   57    1       110   201    0        1      126      1      1.5   0   \n",
       "48    53    0       128   216    0        0      115      0      0.0   0   \n",
       "117   56    1       120   193    0        0      162      0      1.9   0   \n",
       "156   47    1       130   253    0        1      179      0      0.0   0   \n",
       "\n",
       "     target  cp_1  cp_2  cp_3  slope_1  slope_2  thal_1  thal_2  thal_3  \n",
       "id                                                                       \n",
       "216       0     0     1     0        1        0       0       0       1  \n",
       "86        1     0     1     0        0        1       0       0       1  \n",
       "302       0     1     0     0        1        0       0       1       0  \n",
       "201       0     0     0     0        1        0       0       0       1  \n",
       "30        1     1     0     0        0        1       0       1       0  \n",
       "49        1     0     0     0        0        1       0       1       0  \n",
       "138       1     0     0     0        1        0       1       0       0  \n",
       "48        1     0     1     0        0        1       0       0       0  \n",
       "117       1     0     0     1        1        0       0       0       1  \n",
       "156       1     0     1     0        0        1       0       1       0  "
      ]
     },
     "execution_count": 2,
     "metadata": {},
     "output_type": "execute_result"
    }
   ],
   "source": [
    "df = pd.read_csv(\"/kaggle/input/heart-disease-uci/heart.csv\")\n",
    "df.index.rename('id', inplace = True)\n",
    "df.drop_duplicates(inplace = True)\n",
    "\n",
    "#Encode (cp 0 to 3)(slope 0 to 2)(thal 0 to 3)\n",
    "df = pd.get_dummies(df, columns=['cp', 'slope', 'thal'], drop_first=True)\n",
    "\n",
    "df.sample(10)"
   ]
  },
  {
   "cell_type": "code",
   "execution_count": 3,
   "id": "protective-calendar",
   "metadata": {
    "execution": {
     "iopub.execute_input": "2021-07-12T11:51:13.185810Z",
     "iopub.status.busy": "2021-07-12T11:51:13.185276Z",
     "iopub.status.idle": "2021-07-12T11:51:13.211966Z",
     "shell.execute_reply": "2021-07-12T11:51:13.211533Z",
     "shell.execute_reply.started": "2021-07-12T11:43:45.404285Z"
    },
    "papermill": {
     "duration": 0.04048,
     "end_time": "2021-07-12T11:51:13.212102",
     "exception": false,
     "start_time": "2021-07-12T11:51:13.171622",
     "status": "completed"
    },
    "tags": []
   },
   "outputs": [
    {
     "data": {
      "text/html": [
       "<div>\n",
       "<style scoped>\n",
       "    .dataframe tbody tr th:only-of-type {\n",
       "        vertical-align: middle;\n",
       "    }\n",
       "\n",
       "    .dataframe tbody tr th {\n",
       "        vertical-align: top;\n",
       "    }\n",
       "\n",
       "    .dataframe thead th {\n",
       "        text-align: right;\n",
       "    }\n",
       "</style>\n",
       "<table border=\"1\" class=\"dataframe\">\n",
       "  <thead>\n",
       "    <tr style=\"text-align: right;\">\n",
       "      <th></th>\n",
       "      <th>column_name</th>\n",
       "      <th>percent_missing</th>\n",
       "    </tr>\n",
       "  </thead>\n",
       "  <tbody>\n",
       "    <tr>\n",
       "      <th>age</th>\n",
       "      <td>age</td>\n",
       "      <td>0.0</td>\n",
       "    </tr>\n",
       "    <tr>\n",
       "      <th>sex</th>\n",
       "      <td>sex</td>\n",
       "      <td>0.0</td>\n",
       "    </tr>\n",
       "    <tr>\n",
       "      <th>trestbps</th>\n",
       "      <td>trestbps</td>\n",
       "      <td>0.0</td>\n",
       "    </tr>\n",
       "    <tr>\n",
       "      <th>chol</th>\n",
       "      <td>chol</td>\n",
       "      <td>0.0</td>\n",
       "    </tr>\n",
       "    <tr>\n",
       "      <th>fbs</th>\n",
       "      <td>fbs</td>\n",
       "      <td>0.0</td>\n",
       "    </tr>\n",
       "    <tr>\n",
       "      <th>restecg</th>\n",
       "      <td>restecg</td>\n",
       "      <td>0.0</td>\n",
       "    </tr>\n",
       "    <tr>\n",
       "      <th>thalach</th>\n",
       "      <td>thalach</td>\n",
       "      <td>0.0</td>\n",
       "    </tr>\n",
       "    <tr>\n",
       "      <th>exang</th>\n",
       "      <td>exang</td>\n",
       "      <td>0.0</td>\n",
       "    </tr>\n",
       "    <tr>\n",
       "      <th>oldpeak</th>\n",
       "      <td>oldpeak</td>\n",
       "      <td>0.0</td>\n",
       "    </tr>\n",
       "    <tr>\n",
       "      <th>ca</th>\n",
       "      <td>ca</td>\n",
       "      <td>0.0</td>\n",
       "    </tr>\n",
       "    <tr>\n",
       "      <th>target</th>\n",
       "      <td>target</td>\n",
       "      <td>0.0</td>\n",
       "    </tr>\n",
       "    <tr>\n",
       "      <th>cp_1</th>\n",
       "      <td>cp_1</td>\n",
       "      <td>0.0</td>\n",
       "    </tr>\n",
       "    <tr>\n",
       "      <th>cp_2</th>\n",
       "      <td>cp_2</td>\n",
       "      <td>0.0</td>\n",
       "    </tr>\n",
       "    <tr>\n",
       "      <th>cp_3</th>\n",
       "      <td>cp_3</td>\n",
       "      <td>0.0</td>\n",
       "    </tr>\n",
       "    <tr>\n",
       "      <th>slope_1</th>\n",
       "      <td>slope_1</td>\n",
       "      <td>0.0</td>\n",
       "    </tr>\n",
       "    <tr>\n",
       "      <th>slope_2</th>\n",
       "      <td>slope_2</td>\n",
       "      <td>0.0</td>\n",
       "    </tr>\n",
       "    <tr>\n",
       "      <th>thal_1</th>\n",
       "      <td>thal_1</td>\n",
       "      <td>0.0</td>\n",
       "    </tr>\n",
       "    <tr>\n",
       "      <th>thal_2</th>\n",
       "      <td>thal_2</td>\n",
       "      <td>0.0</td>\n",
       "    </tr>\n",
       "    <tr>\n",
       "      <th>thal_3</th>\n",
       "      <td>thal_3</td>\n",
       "      <td>0.0</td>\n",
       "    </tr>\n",
       "  </tbody>\n",
       "</table>\n",
       "</div>"
      ],
      "text/plain": [
       "         column_name  percent_missing\n",
       "age              age              0.0\n",
       "sex              sex              0.0\n",
       "trestbps    trestbps              0.0\n",
       "chol            chol              0.0\n",
       "fbs              fbs              0.0\n",
       "restecg      restecg              0.0\n",
       "thalach      thalach              0.0\n",
       "exang          exang              0.0\n",
       "oldpeak      oldpeak              0.0\n",
       "ca                ca              0.0\n",
       "target        target              0.0\n",
       "cp_1            cp_1              0.0\n",
       "cp_2            cp_2              0.0\n",
       "cp_3            cp_3              0.0\n",
       "slope_1      slope_1              0.0\n",
       "slope_2      slope_2              0.0\n",
       "thal_1        thal_1              0.0\n",
       "thal_2        thal_2              0.0\n",
       "thal_3        thal_3              0.0"
      ]
     },
     "execution_count": 3,
     "metadata": {},
     "output_type": "execute_result"
    }
   ],
   "source": [
    "#Amount of Missing Data\n",
    "percent_missing = df.isnull().sum() * 100 / len(df)\n",
    "missing_value_df = pd.DataFrame({'column_name': df.columns,\n",
    "                                 'percent_missing': percent_missing})\n",
    "missing_value_df"
   ]
  },
  {
   "cell_type": "markdown",
   "id": "attached-comment",
   "metadata": {
    "papermill": {
     "duration": 0.01166,
     "end_time": "2021-07-12T11:51:13.235704",
     "exception": false,
     "start_time": "2021-07-12T11:51:13.224044",
     "status": "completed"
    },
    "tags": []
   },
   "source": [
    "# Split data to Train and Test"
   ]
  },
  {
   "cell_type": "code",
   "execution_count": 4,
   "id": "limiting-removal",
   "metadata": {
    "execution": {
     "iopub.execute_input": "2021-07-12T11:51:13.267132Z",
     "iopub.status.busy": "2021-07-12T11:51:13.266587Z",
     "iopub.status.idle": "2021-07-12T11:51:13.268992Z",
     "shell.execute_reply": "2021-07-12T11:51:13.269539Z",
     "shell.execute_reply.started": "2021-07-12T11:43:45.423952Z"
    },
    "papermill": {
     "duration": 0.021561,
     "end_time": "2021-07-12T11:51:13.269689",
     "exception": false,
     "start_time": "2021-07-12T11:51:13.248128",
     "status": "completed"
    },
    "tags": []
   },
   "outputs": [],
   "source": [
    "#Split Train and Test Data\n",
    "x = df.drop(columns = \"target\")\n",
    "y = df[\"target\"]\n",
    "x_train,x_test,y_train,y_test=train_test_split(x, y, test_size=0.25,random_state= 37)"
   ]
  },
  {
   "cell_type": "markdown",
   "id": "tested-gossip",
   "metadata": {
    "papermill": {
     "duration": 0.011558,
     "end_time": "2021-07-12T11:51:13.292878",
     "exception": false,
     "start_time": "2021-07-12T11:51:13.281320",
     "status": "completed"
    },
    "tags": []
   },
   "source": [
    "# Data Scaling"
   ]
  },
  {
   "cell_type": "code",
   "execution_count": 5,
   "id": "figured-surrey",
   "metadata": {
    "execution": {
     "iopub.execute_input": "2021-07-12T11:51:13.322572Z",
     "iopub.status.busy": "2021-07-12T11:51:13.322014Z",
     "iopub.status.idle": "2021-07-12T11:51:13.328966Z",
     "shell.execute_reply": "2021-07-12T11:51:13.329423Z",
     "shell.execute_reply.started": "2021-07-12T11:43:45.434422Z"
    },
    "papermill": {
     "duration": 0.024795,
     "end_time": "2021-07-12T11:51:13.329584",
     "exception": false,
     "start_time": "2021-07-12T11:51:13.304789",
     "status": "completed"
    },
    "tags": []
   },
   "outputs": [],
   "source": [
    "#Standardize Data\n",
    "SS = StandardScaler()\n",
    "x_train = SS.fit_transform(x_train)\n",
    "x_test = SS.transform(x_test)"
   ]
  },
  {
   "cell_type": "markdown",
   "id": "infrared-guard",
   "metadata": {
    "papermill": {
     "duration": 0.011934,
     "end_time": "2021-07-12T11:51:13.352910",
     "exception": false,
     "start_time": "2021-07-12T11:51:13.340976",
     "status": "completed"
    },
    "tags": []
   },
   "source": [
    "# Build Base Neural Network"
   ]
  },
  {
   "cell_type": "code",
   "execution_count": 6,
   "id": "least-motion",
   "metadata": {
    "execution": {
     "iopub.execute_input": "2021-07-12T11:51:13.381442Z",
     "iopub.status.busy": "2021-07-12T11:51:13.380885Z",
     "iopub.status.idle": "2021-07-12T11:51:13.463177Z",
     "shell.execute_reply": "2021-07-12T11:51:13.462603Z",
     "shell.execute_reply.started": "2021-07-12T11:43:45.452597Z"
    },
    "papermill": {
     "duration": 0.098426,
     "end_time": "2021-07-12T11:51:13.463340",
     "exception": false,
     "start_time": "2021-07-12T11:51:13.364914",
     "status": "completed"
    },
    "tags": []
   },
   "outputs": [],
   "source": [
    "# Create Neural Network\n",
    "model = Sequential()\n",
    "\n",
    "#Add Two layers(18 input and 2 output) - Sigmoid for last layer because it's binary classification\n",
    "model.add(Dense(16, input_dim=18, activation=\"relu\"))\n",
    "model.add(Dense(12, activation=\"relu\"))\n",
    "model.add(Dense(1, activation=\"sigmoid\"))"
   ]
  },
  {
   "cell_type": "markdown",
   "id": "referenced-minimum",
   "metadata": {
    "papermill": {
     "duration": 0.011058,
     "end_time": "2021-07-12T11:51:13.486046",
     "exception": false,
     "start_time": "2021-07-12T11:51:13.474988",
     "status": "completed"
    },
    "tags": []
   },
   "source": [
    "# Compile with Different Optimizers"
   ]
  },
  {
   "cell_type": "code",
   "execution_count": 7,
   "id": "million-realtor",
   "metadata": {
    "execution": {
     "iopub.execute_input": "2021-07-12T11:51:13.512396Z",
     "iopub.status.busy": "2021-07-12T11:51:13.511825Z",
     "iopub.status.idle": "2021-07-12T11:51:13.514683Z",
     "shell.execute_reply": "2021-07-12T11:51:13.514230Z",
     "shell.execute_reply.started": "2021-07-12T11:43:45.498905Z"
    },
    "papermill": {
     "duration": 0.017482,
     "end_time": "2021-07-12T11:51:13.514796",
     "exception": false,
     "start_time": "2021-07-12T11:51:13.497314",
     "status": "completed"
    },
    "tags": []
   },
   "outputs": [],
   "source": [
    "#Create Dictionary for Store history of each Optimizer\n",
    "history = {}"
   ]
  },
  {
   "cell_type": "markdown",
   "id": "mental-gamma",
   "metadata": {
    "papermill": {
     "duration": 0.011047,
     "end_time": "2021-07-12T11:51:13.537279",
     "exception": false,
     "start_time": "2021-07-12T11:51:13.526232",
     "status": "completed"
    },
    "tags": []
   },
   "source": [
    "## SGD"
   ]
  },
  {
   "cell_type": "code",
   "execution_count": 8,
   "id": "cellular-employee",
   "metadata": {
    "execution": {
     "iopub.execute_input": "2021-07-12T11:51:13.562857Z",
     "iopub.status.busy": "2021-07-12T11:51:13.562009Z",
     "iopub.status.idle": "2021-07-12T11:51:14.617491Z",
     "shell.execute_reply": "2021-07-12T11:51:14.616965Z",
     "shell.execute_reply.started": "2021-07-12T11:43:45.504321Z"
    },
    "papermill": {
     "duration": 1.069091,
     "end_time": "2021-07-12T11:51:14.617630",
     "exception": false,
     "start_time": "2021-07-12T11:51:13.548539",
     "status": "completed"
    },
    "tags": []
   },
   "outputs": [
    {
     "name": "stdout",
     "output_type": "stream",
     "text": [
      "Epoch 1/25\n",
      "8/8 [==============================] - 1s 1ms/step - loss: 0.6326 - accuracy: 0.6276\n",
      "Epoch 2/25\n",
      "8/8 [==============================] - 0s 1ms/step - loss: 0.6306 - accuracy: 0.6626\n",
      "Epoch 3/25\n",
      "8/8 [==============================] - 0s 1ms/step - loss: 0.5939 - accuracy: 0.7443\n",
      "Epoch 4/25\n",
      "8/8 [==============================] - 0s 1ms/step - loss: 0.5839 - accuracy: 0.7777\n",
      "Epoch 5/25\n",
      "8/8 [==============================] - 0s 1ms/step - loss: 0.5708 - accuracy: 0.7666\n",
      "Epoch 6/25\n",
      "8/8 [==============================] - 0s 1ms/step - loss: 0.5581 - accuracy: 0.7875\n",
      "Epoch 7/25\n",
      "8/8 [==============================] - 0s 1ms/step - loss: 0.5512 - accuracy: 0.8058\n",
      "Epoch 8/25\n",
      "8/8 [==============================] - 0s 1ms/step - loss: 0.5366 - accuracy: 0.8201\n",
      "Epoch 9/25\n",
      "8/8 [==============================] - 0s 1ms/step - loss: 0.5283 - accuracy: 0.8009\n",
      "Epoch 10/25\n",
      "8/8 [==============================] - 0s 1ms/step - loss: 0.5174 - accuracy: 0.8115\n",
      "Epoch 11/25\n",
      "8/8 [==============================] - 0s 955us/step - loss: 0.5046 - accuracy: 0.8279\n",
      "Epoch 12/25\n",
      "8/8 [==============================] - 0s 1ms/step - loss: 0.4987 - accuracy: 0.8225\n",
      "Epoch 13/25\n",
      "8/8 [==============================] - 0s 1ms/step - loss: 0.4799 - accuracy: 0.8471\n",
      "Epoch 14/25\n",
      "8/8 [==============================] - 0s 972us/step - loss: 0.4767 - accuracy: 0.8447\n",
      "Epoch 15/25\n",
      "8/8 [==============================] - 0s 859us/step - loss: 0.4725 - accuracy: 0.8330\n",
      "Epoch 16/25\n",
      "8/8 [==============================] - 0s 1ms/step - loss: 0.4863 - accuracy: 0.8125\n",
      "Epoch 17/25\n",
      "8/8 [==============================] - 0s 983us/step - loss: 0.4515 - accuracy: 0.8410\n",
      "Epoch 18/25\n",
      "8/8 [==============================] - 0s 925us/step - loss: 0.4359 - accuracy: 0.8610\n",
      "Epoch 19/25\n",
      "8/8 [==============================] - 0s 915us/step - loss: 0.4571 - accuracy: 0.8408\n",
      "Epoch 20/25\n",
      "8/8 [==============================] - 0s 1ms/step - loss: 0.4501 - accuracy: 0.8397\n",
      "Epoch 21/25\n",
      "8/8 [==============================] - 0s 1ms/step - loss: 0.4452 - accuracy: 0.8295\n",
      "Epoch 22/25\n",
      "8/8 [==============================] - 0s 1ms/step - loss: 0.4336 - accuracy: 0.8502\n",
      "Epoch 23/25\n",
      "8/8 [==============================] - 0s 1ms/step - loss: 0.4335 - accuracy: 0.8150\n",
      "Epoch 24/25\n",
      "8/8 [==============================] - 0s 1ms/step - loss: 0.4336 - accuracy: 0.8391\n",
      "Epoch 25/25\n",
      "8/8 [==============================] - 0s 887us/step - loss: 0.4016 - accuracy: 0.8386\n"
     ]
    }
   ],
   "source": [
    "#Compile with SGD Optimizer\n",
    "model.compile(loss='binary_crossentropy', optimizer='SGD', metrics=['accuracy'])\n",
    "history[\"SGD\"] = model.fit(x_train, y_train, epochs=25, batch_size=32)"
   ]
  },
  {
   "cell_type": "markdown",
   "id": "rental-quilt",
   "metadata": {
    "papermill": {
     "duration": 0.023643,
     "end_time": "2021-07-12T11:51:14.665498",
     "exception": false,
     "start_time": "2021-07-12T11:51:14.641855",
     "status": "completed"
    },
    "tags": []
   },
   "source": [
    "## RMSprop\n"
   ]
  },
  {
   "cell_type": "code",
   "execution_count": 9,
   "id": "norwegian-sigma",
   "metadata": {
    "execution": {
     "iopub.execute_input": "2021-07-12T11:51:14.724433Z",
     "iopub.status.busy": "2021-07-12T11:51:14.723244Z",
     "iopub.status.idle": "2021-07-12T11:51:15.490802Z",
     "shell.execute_reply": "2021-07-12T11:51:15.490249Z",
     "shell.execute_reply.started": "2021-07-12T11:43:46.426306Z"
    },
    "papermill": {
     "duration": 0.801446,
     "end_time": "2021-07-12T11:51:15.490929",
     "exception": false,
     "start_time": "2021-07-12T11:51:14.689483",
     "status": "completed"
    },
    "tags": []
   },
   "outputs": [
    {
     "name": "stdout",
     "output_type": "stream",
     "text": [
      "Epoch 1/25\n",
      "8/8 [==============================] - 0s 1ms/step - loss: 0.3980 - accuracy: 0.8706\n",
      "Epoch 2/25\n",
      "8/8 [==============================] - 0s 1ms/step - loss: 0.3974 - accuracy: 0.8375\n",
      "Epoch 3/25\n",
      "8/8 [==============================] - 0s 971us/step - loss: 0.3687 - accuracy: 0.8567\n",
      "Epoch 4/25\n",
      "8/8 [==============================] - 0s 1ms/step - loss: 0.3335 - accuracy: 0.8821\n",
      "Epoch 5/25\n",
      "8/8 [==============================] - 0s 936us/step - loss: 0.3609 - accuracy: 0.8704\n",
      "Epoch 6/25\n",
      "8/8 [==============================] - 0s 1ms/step - loss: 0.3350 - accuracy: 0.8712\n",
      "Epoch 7/25\n",
      "8/8 [==============================] - 0s 988us/step - loss: 0.3248 - accuracy: 0.8718\n",
      "Epoch 8/25\n",
      "8/8 [==============================] - 0s 943us/step - loss: 0.3542 - accuracy: 0.8471\n",
      "Epoch 9/25\n",
      "8/8 [==============================] - 0s 1ms/step - loss: 0.3208 - accuracy: 0.8639\n",
      "Epoch 10/25\n",
      "8/8 [==============================] - 0s 1ms/step - loss: 0.3566 - accuracy: 0.8523\n",
      "Epoch 11/25\n",
      "8/8 [==============================] - 0s 1ms/step - loss: 0.3288 - accuracy: 0.8584\n",
      "Epoch 12/25\n",
      "8/8 [==============================] - 0s 953us/step - loss: 0.3356 - accuracy: 0.8491\n",
      "Epoch 13/25\n",
      "8/8 [==============================] - 0s 989us/step - loss: 0.3402 - accuracy: 0.8632\n",
      "Epoch 14/25\n",
      "8/8 [==============================] - 0s 1ms/step - loss: 0.3200 - accuracy: 0.8603\n",
      "Epoch 15/25\n",
      "8/8 [==============================] - 0s 1ms/step - loss: 0.3221 - accuracy: 0.8517\n",
      "Epoch 16/25\n",
      "8/8 [==============================] - 0s 1ms/step - loss: 0.3212 - accuracy: 0.8620\n",
      "Epoch 17/25\n",
      "8/8 [==============================] - 0s 1ms/step - loss: 0.3090 - accuracy: 0.8799\n",
      "Epoch 18/25\n",
      "8/8 [==============================] - 0s 980us/step - loss: 0.3009 - accuracy: 0.8815\n",
      "Epoch 19/25\n",
      "8/8 [==============================] - 0s 1ms/step - loss: 0.3365 - accuracy: 0.8589\n",
      "Epoch 20/25\n",
      "8/8 [==============================] - 0s 1ms/step - loss: 0.2742 - accuracy: 0.8975\n",
      "Epoch 21/25\n",
      "8/8 [==============================] - 0s 1ms/step - loss: 0.2829 - accuracy: 0.8710\n",
      "Epoch 22/25\n",
      "8/8 [==============================] - 0s 1ms/step - loss: 0.2987 - accuracy: 0.8783\n",
      "Epoch 23/25\n",
      "8/8 [==============================] - 0s 1ms/step - loss: 0.2923 - accuracy: 0.8783\n",
      "Epoch 24/25\n",
      "8/8 [==============================] - 0s 1ms/step - loss: 0.2724 - accuracy: 0.8873\n",
      "Epoch 25/25\n",
      "8/8 [==============================] - 0s 1ms/step - loss: 0.2560 - accuracy: 0.8920\n"
     ]
    }
   ],
   "source": [
    "#Compile with RMSprop Optimizer\n",
    "model.compile(loss='binary_crossentropy', optimizer='RMSprop', metrics=['accuracy'])\n",
    "history[\"RMSprop\"] = model.fit(x_train, y_train, epochs=25, batch_size=32)"
   ]
  },
  {
   "cell_type": "markdown",
   "id": "compound-dating",
   "metadata": {
    "papermill": {
     "duration": 0.035149,
     "end_time": "2021-07-12T11:51:15.561800",
     "exception": false,
     "start_time": "2021-07-12T11:51:15.526651",
     "status": "completed"
    },
    "tags": []
   },
   "source": [
    "## Compare different Optimizers"
   ]
  },
  {
   "cell_type": "markdown",
   "id": "veterinary-opera",
   "metadata": {
    "papermill": {
     "duration": 0.03476,
     "end_time": "2021-07-12T11:51:15.631758",
     "exception": false,
     "start_time": "2021-07-12T11:51:15.596998",
     "status": "completed"
    },
    "tags": []
   },
   "source": [
    "### Acuaracy"
   ]
  },
  {
   "cell_type": "code",
   "execution_count": 10,
   "id": "medium-station",
   "metadata": {
    "execution": {
     "iopub.execute_input": "2021-07-12T11:51:15.719332Z",
     "iopub.status.busy": "2021-07-12T11:51:15.713799Z",
     "iopub.status.idle": "2021-07-12T11:51:15.865525Z",
     "shell.execute_reply": "2021-07-12T11:51:15.865943Z",
     "shell.execute_reply.started": "2021-07-12T11:47:28.562655Z"
    },
    "papermill": {
     "duration": 0.199493,
     "end_time": "2021-07-12T11:51:15.866102",
     "exception": false,
     "start_time": "2021-07-12T11:51:15.666609",
     "status": "completed"
    },
    "tags": []
   },
   "outputs": [
    {
     "data": {
      "image/png": "[encoded data removed]",
      "text/plain": [
       "<Figure size 432x288 with 1 Axes>"
      ]
     },
     "metadata": {},
     "output_type": "display_data"
    }
   ],
   "source": [
    "plt.plot(history['SGD'].history['accuracy'])\n",
    "plt.plot(history['RMSprop'].history['accuracy'])\n",
    "plt.title('Model accuracy')\n",
    "plt.ylabel('Accuracy')\n",
    "plt.xlabel('Epoch')\n",
    "plt.legend(['SGD', 'RMSprop'], loc='upper left')\n",
    "plt.show()"
   ]
  },
  {
   "cell_type": "markdown",
   "id": "persistent-screw",
   "metadata": {
    "papermill": {
     "duration": 0.036146,
     "end_time": "2021-07-12T11:51:15.938454",
     "exception": false,
     "start_time": "2021-07-12T11:51:15.902308",
     "status": "completed"
    },
    "tags": []
   },
   "source": [
    "### Loss"
   ]
  },
  {
   "cell_type": "code",
   "execution_count": 11,
   "id": "norwegian-movement",
   "metadata": {
    "execution": {
     "iopub.execute_input": "2021-07-12T11:51:16.036697Z",
     "iopub.status.busy": "2021-07-12T11:51:16.036073Z",
     "iopub.status.idle": "2021-07-12T11:51:16.155935Z",
     "shell.execute_reply": "2021-07-12T11:51:16.156414Z",
     "shell.execute_reply.started": "2021-07-12T11:47:29.328464Z"
    },
    "papermill": {
     "duration": 0.181495,
     "end_time": "2021-07-12T11:51:16.156574",
     "exception": false,
     "start_time": "2021-07-12T11:51:15.975079",
     "status": "completed"
    },
    "tags": []
   },
   "outputs": [
    {
     "data": {
      "image/png": "[encoded data removed]",
      "text/plain": [
       "<Figure size 432x288 with 1 Axes>"
      ]
     },
     "metadata": {},
     "output_type": "display_data"
    }
   ],
   "source": [
    "plt.plot(history['SGD'].history['loss']) \n",
    "plt.plot(history['RMSprop'].history['loss']) \n",
    "plt.title('Model loss') \n",
    "plt.ylabel('Loss') \n",
    "plt.xlabel('Epoch') \n",
    "plt.legend(['SGD', 'RMSprop'], loc='upper left') \n",
    "plt.show()"
   ]
  }
 ],
 "metadata": {
  "kernelspec": {
   "display_name": "Python 3",
   "language": "python",
   "name": "python3"
  },
  "language_info": {
   "codemirror_mode": {
    "name": "ipython",
    "version": 3
   },
   "file_extension": ".py",
   "mimetype": "text/x-python",
   "name": "python",
   "nbconvert_exporter": "python",
   "pygments_lexer": "ipython3",
   "version": "3.7.10"
  },
  "papermill": {
   "default_parameters": {},
   "duration": 18.721724,
   "end_time": "2021-07-12T11:51:18.249920",
   "environment_variables": {},
   "exception": null,
   "input_path": "__notebook__.ipynb",
   "output_path": "__notebook__.ipynb",
   "parameters": {},
   "start_time": "2021-07-12T11:50:59.528196",
   "version": "2.3.3"
  }
 },
 "nbformat": 4,
 "nbformat_minor": 5
}
